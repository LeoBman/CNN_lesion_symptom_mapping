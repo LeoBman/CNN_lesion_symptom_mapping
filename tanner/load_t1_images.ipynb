{
 "cells": [
  {
   "cell_type": "code",
   "execution_count": null,
   "metadata": {},
   "outputs": [],
   "source": [
    "%matplotlib inline\n",
    "%matplotlib notebook\n",
    "import nibabel as nib\n",
    "from nibabel.processing import resample_to_output\n",
    "import numpy as np\n",
    "import random\n",
    "import pandas as pd\n",
    "import matplotlib.pyplot as plt\n",
    "from mpl_toolkits.mplot3d.axes3d import Axes3D\n",
    "from glob import glob\n",
    "import re\n",
    "import os\n",
    "\n",
    "from sklearn.model_selection import train_test_split\n",
    "from sklearn.utils import shuffle\n",
    "from sklearn import preprocessing\n",
    "from sklearn.preprocessing import normalize\n",
    "from sklearn.metrics import classification_report\n",
    "\n",
    "seed = 42\n",
    "np.random.seed(seed)  # for reproducibility\n",
    "\n",
    "import os\n",
    "## os.environ[\"THEANO_FLAGS\"] = \"mode=FAST_RUN,device=cuda0,floatX=float32\"\n",
    "os.environ[\"KERAS_BACKEND\"] = \"tensorflow\"\n",
    "import tensorflow\n",
    "import keras\n",
    "from keras.models import Sequential\n",
    "from keras.layers import Dense, Dropout, Activation, Flatten\n",
    "from keras.layers import Convolution3D, MaxPooling3D\n",
    "from keras.utils import np_utils"
   ]
  },
  {
   "cell_type": "code",
   "execution_count": null,
   "metadata": {},
   "outputs": [],
   "source": [
    "label_df = pd.read_csv(\"/sdata/comppsych/lesion/phenotype_t1.csv\")\n",
    "data = []\n",
    "labels = []\n",
    "t1_files = glob('/sdata/comppsych/lesion/Hackathon_Lesion_Data/lesion_identification_training_set/*/*_warped.nii.gz')\n",
    "t1_mni = dict()\n",
    "\n",
    "for file in t1_files:\n",
    "    match = re.match(r'.*([0-9]{4}).*', file)[1]\n",
    "    t1_mni[str(match)] = file\n",
    "\n",
    "for sample in label_df.ID:\n",
    "    file = t1_mni[str(sample)]\n",
    "    t1_img = nib.load(file)\n",
    "    t1_data = t1_img.get_data()\n",
    "    data.append(t1_data)\n",
    "\n",
    "labels_t1  = np.array(label_df)\n",
    "\n",
    "np.save(\"/sdata/comppsych/lesion/Hackathon_Lesion_Data/t1_np_array\", data_t1)\n",
    "np.save(\"/sdata/comppsych/lesion/Hackathon_Lesion_Data/t1_labels\", labels_t1)"
   ]
  }
 ],
 "metadata": {
  "kernelspec": {
   "display_name": "Python 3",
   "language": "python",
   "name": "python3"
  },
  "language_info": {
   "codemirror_mode": {
    "name": "ipython",
    "version": 3
   },
   "file_extension": ".py",
   "mimetype": "text/x-python",
   "name": "python",
   "nbconvert_exporter": "python",
   "pygments_lexer": "ipython3",
   "version": "3.6.6"
  }
 },
 "nbformat": 4,
 "nbformat_minor": 2
}
