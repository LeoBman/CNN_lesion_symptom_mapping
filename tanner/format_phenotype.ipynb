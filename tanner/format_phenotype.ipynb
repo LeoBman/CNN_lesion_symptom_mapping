{
 "cells": [
  {
   "cell_type": "code",
   "execution_count": 57,
   "metadata": {},
   "outputs": [],
   "source": [
    "library(tidyverse)\n",
    "library(readxl)"
   ]
  },
  {
   "cell_type": "markdown",
   "metadata": {},
   "source": []
  },
  {
   "cell_type": "code",
   "execution_count": 139,
   "metadata": {
    "scrolled": false
   },
   "outputs": [
    {
     "data": {
      "text/html": [
       "<ol class=list-inline>\n",
       "\t<li>'KEY'</li>\n",
       "\t<li>'Gc_bi_all_subs_405'</li>\n",
       "\t<li>'Gc_all_subs_405'</li>\n",
       "\t<li>'Gl_all_subs_405'</li>\n",
       "\t<li>'Gl_bi_all_subs_405'</li>\n",
       "\t<li>'Gs_all_subs_405'</li>\n",
       "\t<li>'Gs_bi_all_subs_405'</li>\n",
       "\t<li>'Gv_all_subs_405'</li>\n",
       "\t<li>'Gv_bi_all_subs_405'</li>\n",
       "\t<li>'Gwm_all_subs_405'</li>\n",
       "\t<li>'Gwm_bi_all_subs_405'</li>\n",
       "\t<li>'g_bi_all_subs_405'</li>\n",
       "\t<li>'g_hi_all_subs_405'</li>\n",
       "</ol>\n"
      ],
      "text/latex": [
       "\\begin{enumerate*}\n",
       "\\item 'KEY'\n",
       "\\item 'Gc\\_bi\\_all\\_subs\\_405'\n",
       "\\item 'Gc\\_all\\_subs\\_405'\n",
       "\\item 'Gl\\_all\\_subs\\_405'\n",
       "\\item 'Gl\\_bi\\_all\\_subs\\_405'\n",
       "\\item 'Gs\\_all\\_subs\\_405'\n",
       "\\item 'Gs\\_bi\\_all\\_subs\\_405'\n",
       "\\item 'Gv\\_all\\_subs\\_405'\n",
       "\\item 'Gv\\_bi\\_all\\_subs\\_405'\n",
       "\\item 'Gwm\\_all\\_subs\\_405'\n",
       "\\item 'Gwm\\_bi\\_all\\_subs\\_405'\n",
       "\\item 'g\\_bi\\_all\\_subs\\_405'\n",
       "\\item 'g\\_hi\\_all\\_subs\\_405'\n",
       "\\end{enumerate*}\n"
      ],
      "text/markdown": [
       "1. 'KEY'\n",
       "2. 'Gc_bi_all_subs_405'\n",
       "3. 'Gc_all_subs_405'\n",
       "4. 'Gl_all_subs_405'\n",
       "5. 'Gl_bi_all_subs_405'\n",
       "6. 'Gs_all_subs_405'\n",
       "7. 'Gs_bi_all_subs_405'\n",
       "8. 'Gv_all_subs_405'\n",
       "9. 'Gv_bi_all_subs_405'\n",
       "10. 'Gwm_all_subs_405'\n",
       "11. 'Gwm_bi_all_subs_405'\n",
       "12. 'g_bi_all_subs_405'\n",
       "13. 'g_hi_all_subs_405'\n",
       "\n",
       "\n"
      ],
      "text/plain": [
       " [1] \"KEY\"                 \"Gc_bi_all_subs_405\"  \"Gc_all_subs_405\"    \n",
       " [4] \"Gl_all_subs_405\"     \"Gl_bi_all_subs_405\"  \"Gs_all_subs_405\"    \n",
       " [7] \"Gs_bi_all_subs_405\"  \"Gv_all_subs_405\"     \"Gv_bi_all_subs_405\" \n",
       "[10] \"Gwm_all_subs_405\"    \"Gwm_bi_all_subs_405\" \"g_bi_all_subs_405\"  \n",
       "[13] \"g_hi_all_subs_405\"  "
      ]
     },
     "metadata": {},
     "output_type": "display_data"
    },
    {
     "name": "stderr",
     "output_type": "stream",
     "text": [
      "Joining, by = \"ID\"\n",
      "Joining, by = \"ID\"\n",
      "Joining, by = \"ID\"\n",
      "Joining, by = \"ID\"\n",
      "Joining, by = \"ID\"\n",
      "Joining, by = \"ID\"\n",
      "Joining, by = \"ID\"\n",
      "Joining, by = \"ID\"\n",
      "Joining, by = \"ID\"\n",
      "Joining, by = \"ID\"\n",
      "Joining, by = \"ID\"\n"
     ]
    }
   ],
   "source": [
    "file_405 <- \"/sdata/comppsych/lesion/Hackathon_Lesion_Data/Factor_Analysis_Scores.xlsx\"\n",
    "\n",
    "sheets <- excel_sheets(file_405)\n",
    "\n",
    "sheets\n",
    "\n",
    "sheets.ll <- lapply(sheets, function(sheet){\n",
    "    read_excel(path = file_405, \n",
    "               sheet = sheet)\n",
    "})\n",
    "\n",
    "names(sheets.ll) <- sheets\n",
    "\n",
    "for(name in sheets[-1]){\n",
    "    colnames(sheets.ll[[name]])[2] <- name\n",
    "}\n",
    " \n",
    "dat_405 <- reduce(sheets.ll[-1], full_join)"
   ]
  },
  {
   "cell_type": "code",
   "execution_count": 140,
   "metadata": {},
   "outputs": [],
   "source": [
    "file_435 <- \"/sdata/comppsych/lesion/Hackathon_Lesion_Data/Scores_for_updated_lesion_masks_435_subs.xlsx\"\n",
    "\n",
    "dat_435 <- read_excel(path = file_435, \n",
    "          sheet = \"Sheet1\")"
   ]
  },
  {
   "cell_type": "code",
   "execution_count": 143,
   "metadata": {},
   "outputs": [],
   "source": [
    "write_csv(dat_405, path = \"~/Dropbox/Iowa_Hackathon_Data/phenotype_405.csv\")\n",
    "write_csv(dat_435, path = \"~/Dropbox/Iowa_Hackathon_Data/phenotype_435.csv\")"
   ]
  },
  {
   "cell_type": "markdown",
   "metadata": {},
   "source": [
    "## Check how many of the samples with T1s have phenotype data"
   ]
  },
  {
   "cell_type": "code",
   "execution_count": 155,
   "metadata": {},
   "outputs": [
    {
     "data": {
      "text/html": [
       "133"
      ],
      "text/latex": [
       "133"
      ],
      "text/markdown": [
       "133"
      ],
      "text/plain": [
       "[1] 133"
      ]
     },
     "metadata": {},
     "output_type": "display_data"
    },
    {
     "data": {
      "text/html": [
       "5"
      ],
      "text/latex": [
       "5"
      ],
      "text/markdown": [
       "5"
      ],
      "text/plain": [
       "[1] 5"
      ]
     },
     "metadata": {},
     "output_type": "display_data"
    }
   ],
   "source": [
    "samples <- list.dirs(\"/sdata/comppsych/lesion/Hackathon_Lesion_Data/lesion_identification_training_set/\", full.names = F)[-1]\n",
    "\n",
    "length(samples)\n",
    "\n",
    "dat_t1 <- dat_435 %>% filter(ID %in% samples)\n",
    "\n",
    "length(dat_t1)\n",
    "\n",
    "write_csv(dat_t1, path = \"~/Dropbox/Iowa_Hackathon_Data/phenotype_t1.csv\")"
   ]
  }
 ],
 "metadata": {
  "kernelspec": {
   "display_name": "R",
   "language": "R",
   "name": "ir"
  },
  "language_info": {
   "codemirror_mode": "r",
   "file_extension": ".r",
   "mimetype": "text/x-r-source",
   "name": "R",
   "pygments_lexer": "r",
   "version": "3.5.0"
  }
 },
 "nbformat": 4,
 "nbformat_minor": 2
}
