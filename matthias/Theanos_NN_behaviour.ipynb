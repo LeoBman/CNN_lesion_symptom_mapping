{
 "cells": [
  {
   "cell_type": "code",
   "execution_count": 2,
   "metadata": {},
   "outputs": [
    {
     "name": "stderr",
     "output_type": "stream",
     "text": [
      "Can not use cuDNN on context None: cannot compile with cuDNN. We got this error:\n",
      "/Users/mcrichter/anaconda3/envs/theano_py27/bin/../lib/gcc/x86_64-conda_cos6-linux-gnu/7.3.0/../../../../x86_64-conda_cos6-linux-gnu/bin/ld: cannot find -lcudnn\n",
      "collect2: error: ld returned 1 exit status\n",
      "\n",
      "Mapped name None to device cuda0: Tesla P100-PCIE-16GB (0000:81:00.0)\n",
      "Using Theano backend.\n"
     ]
    }
   ],
   "source": [
    "import nibabel as nib\n",
    "from nibabel.processing import resample_to_output\n",
    "import numpy as np\n",
    "import pandas as pd\n",
    "from glob import glob\n",
    "import re\n",
    "import matplotlib.pyplot as plt\n",
    "\n",
    "# Import libraries for keras\n",
    "# # set the matplotlib backend so figures can be saved in the background\n",
    "# import matplotlib\n",
    "# matplotlib.use(\"Agg\")\n",
    "import os\n",
    "os.environ[\"THEANO_FLAGS\"] = \"mode=FAST_RUN,device=cuda0,floatX=float32\"\n",
    "os.environ[\"KERAS_BACKEND\"] = \"theano\"\n",
    "import theano\n",
    "import keras\n",
    "\n",
    "# import the necessary packages\n",
    "# from sklearn.preprocessing import LabelBinarizer\n",
    "from sklearn.model_selection import train_test_split\n",
    "from sklearn.utils import shuffle\n",
    "from sklearn import preprocessing\n",
    "from sklearn.metrics import classification_report\n",
    "from keras.models import Sequential\n",
    "from keras.layers.core import Dense\n",
    "# from keras.optimizers import SGD\n",
    "# from imutils import paths\n",
    "# import argparse\n",
    "import random\n",
    "# import pickle\n",
    "# import cv2\n",
    "import os\n",
    "import os.path"
   ]
  },
  {
   "cell_type": "code",
   "execution_count": 3,
   "metadata": {},
   "outputs": [],
   "source": [
    "'''\n",
    "    Checks whether a file exists and converts to local or cluster path if necessary\n",
    "'''\n",
    "def check_file_path(file_path):\n",
    "    if os.path.isfile(file_path):\n",
    "        return file_path\n",
    "    else:\n",
    "        to_cluster_path = \"/Dedicated/jmichaelson-\" + file_path[1:]\n",
    "        to_local_path = \"/\" + file_path[22:]\n",
    "\n",
    "        if os.path.isfile(to_cluster_path):\n",
    "            return to_cluster_path\n",
    "        elif os.path.isfile(to_local_path):\n",
    "            return to_local_path\n",
    "        else:\n",
    "            print(\"No valid file path\")\n",
    "            return \"NOPE\""
   ]
  },
  {
   "cell_type": "markdown",
   "metadata": {},
   "source": [
    "## The labels"
   ]
  },
  {
   "cell_type": "code",
   "execution_count": 9,
   "metadata": {},
   "outputs": [
    {
     "data": {
      "text/html": [
       "<div>\n",
       "<style scoped>\n",
       "    .dataframe tbody tr th:only-of-type {\n",
       "        vertical-align: middle;\n",
       "    }\n",
       "\n",
       "    .dataframe tbody tr th {\n",
       "        vertical-align: top;\n",
       "    }\n",
       "\n",
       "    .dataframe thead th {\n",
       "        text-align: right;\n",
       "    }\n",
       "</style>\n",
       "<table border=\"1\" class=\"dataframe\">\n",
       "  <thead>\n",
       "    <tr style=\"text-align: right;\">\n",
       "      <th></th>\n",
       "      <th>Score</th>\n",
       "    </tr>\n",
       "    <tr>\n",
       "      <th>ID</th>\n",
       "      <th></th>\n",
       "    </tr>\n",
       "  </thead>\n",
       "  <tbody>\n",
       "    <tr>\n",
       "      <th>0194</th>\n",
       "      <td>0.280165</td>\n",
       "    </tr>\n",
       "    <tr>\n",
       "      <th>0297</th>\n",
       "      <td>0.390203</td>\n",
       "    </tr>\n",
       "    <tr>\n",
       "      <th>0318</th>\n",
       "      <td>0.555099</td>\n",
       "    </tr>\n",
       "    <tr>\n",
       "      <th>0376</th>\n",
       "      <td>-0.412211</td>\n",
       "    </tr>\n",
       "    <tr>\n",
       "      <th>0414</th>\n",
       "      <td>-1.209015</td>\n",
       "    </tr>\n",
       "  </tbody>\n",
       "</table>\n",
       "</div>"
      ],
      "text/plain": [
       "         Score\n",
       "ID            \n",
       "0194  0.280165\n",
       "0297  0.390203\n",
       "0318  0.555099\n",
       "0376 -0.412211\n",
       "0414 -1.209015"
      ]
     },
     "execution_count": 9,
     "metadata": {},
     "output_type": "execute_result"
    }
   ],
   "source": [
    "# zero-pad some of the entries so they match the filenames\n",
    "label_file = '/wdata/mcrichter/HackUiowa2018/DATA/2018_IA_Hackathon/Factor_Data/comprehension_ability_crystalized_intelligence_with_the_variance_of_g_removed.xlsx'\n",
    "df = pd.read_excel(check_file_path(label_file),\n",
    "                   converters={'ID': lambda x: str(x).zfill(4)},\n",
    "          )\n",
    "# make the ID the index in the pandas dataframe\n",
    "df.set_index('ID', inplace=True)\n",
    "df.head()"
   ]
  },
  {
   "cell_type": "markdown",
   "metadata": {},
   "source": [
    "## The data"
   ]
  },
  {
   "cell_type": "code",
   "execution_count": null,
   "metadata": {},
   "outputs": [],
   "source": [
    "# Get all lesion masks\n",
    "data_collector = {}\n",
    "img_collector = {}\n",
    "lesion_masks = glob('/wdata/mcrichter/HackUiowa2018/DATA/2018_IA_Hackathon/Factor_Data/All_subs_405_Lesion_Masks/*.nii.gz')\n",
    "for les_file in lesion_masks:\n",
    "    match = re.match(r'.*/([0-9]{4}).nii.gz', les_file)\n",
    "    sub_id = match.groups()[0]\n",
    "    les_img = nib.load(les_file)\n",
    "    img_collector[sub_id] = les_img\n",
    "    les_img_resamp = resample_to_output(les_img, voxel_sizes=(3, 3, 3))\n",
    "    les_data = les_img_resamp.get_data()\n",
    "    les_data_1d = les_data.reshape(np.prod(les_data.shape))\n",
    "    data_collector[sub_id] = les_data_1d"
   ]
  },
  {
   "cell_type": "code",
   "execution_count": null,
   "metadata": {},
   "outputs": [],
   "source": [
    "group_df = pd.DataFrame.from_dict(data_collector, orient='index')"
   ]
  },
  {
   "cell_type": "code",
   "execution_count": null,
   "metadata": {},
   "outputs": [],
   "source": [
    "total_df = group_df.join(df).sort_index()"
   ]
  },
  {
   "cell_type": "code",
   "execution_count": null,
   "metadata": {},
   "outputs": [],
   "source": [
    "# remove columns with only 0\n",
    "reduced_group_df = group_df.loc[:, (group_df != 0).any(axis=0)]\n",
    "# add intercept column\n",
    "reduced_group_df.loc[:,'intercept'] = [1] * len(reduced_group_df)\n",
    "reduced_group_df['intercept']\n",
    "len(reduced_group_df.columns)"
   ]
  },
  {
   "cell_type": "code",
   "execution_count": null,
   "metadata": {},
   "outputs": [],
   "source": [
    "#Combine data frames\n",
    "total_data_df = reduced_group_df.join(df).sort_index()"
   ]
  },
  {
   "cell_type": "code",
   "execution_count": 10,
   "metadata": {},
   "outputs": [
    {
     "name": "stdout",
     "output_type": "stream",
     "text": [
      "Load data...\n"
     ]
    }
   ],
   "source": [
    "print(\"Load data...\")\n",
    "total_data_df_path = '/Dedicated/jmichaelson-wdata/mcrichter/HackUiowa2018/NN_behaviour/total_data_df_reduced_no_0_columns.csv'\n",
    "total_data_df = pd.read_csv(check_file_path(total_data_df_path))\n",
    "total_data_df.rename(columns={'Unnamed: 0': 'ID'}, inplace=True)\n",
    "total_data_df.set_index('ID', inplace=True)"
   ]
  },
  {
   "cell_type": "code",
   "execution_count": 11,
   "metadata": {},
   "outputs": [
    {
     "name": "stdout",
     "output_type": "stream",
     "text": [
      "Create model...\n",
      "Compile model...\n",
      "Fit model...\n",
      "Train on 364 samples, validate on 41 samples\n",
      "Epoch 1/20\n",
      "364/364 [==============================] - 0s 1ms/step - loss: 0.0343 - mean_absolute_error: 0.1486 - val_loss: 0.0300 - val_mean_absolute_error: 0.1381\n",
      "Epoch 2/20\n",
      "364/364 [==============================] - 0s 1ms/step - loss: 0.0335 - mean_absolute_error: 0.1465 - val_loss: 0.0298 - val_mean_absolute_error: 0.1385\n",
      "Epoch 3/20\n",
      "364/364 [==============================] - 0s 1ms/step - loss: 0.0334 - mean_absolute_error: 0.1464 - val_loss: 0.0297 - val_mean_absolute_error: 0.1389\n",
      "Epoch 4/20\n",
      "364/364 [==============================] - 0s 1ms/step - loss: 0.0334 - mean_absolute_error: 0.1462 - val_loss: 0.0295 - val_mean_absolute_error: 0.1400\n",
      "Epoch 5/20\n",
      "364/364 [==============================] - 0s 1ms/step - loss: 0.0333 - mean_absolute_error: 0.1461 - val_loss: 0.0295 - val_mean_absolute_error: 0.1411\n",
      "Epoch 6/20\n",
      "364/364 [==============================] - 0s 1ms/step - loss: 0.0333 - mean_absolute_error: 0.1462 - val_loss: 0.0297 - val_mean_absolute_error: 0.1387\n",
      "Epoch 7/20\n",
      "364/364 [==============================] - 0s 1ms/step - loss: 0.0334 - mean_absolute_error: 0.1465 - val_loss: 0.0296 - val_mean_absolute_error: 0.1395\n",
      "Epoch 8/20\n",
      "364/364 [==============================] - 0s 1ms/step - loss: 0.0333 - mean_absolute_error: 0.1462 - val_loss: 0.0296 - val_mean_absolute_error: 0.1391\n",
      "Epoch 9/20\n",
      "364/364 [==============================] - 0s 1ms/step - loss: 0.0334 - mean_absolute_error: 0.1463 - val_loss: 0.0296 - val_mean_absolute_error: 0.1395\n",
      "Epoch 10/20\n",
      "364/364 [==============================] - 0s 1ms/step - loss: 0.0334 - mean_absolute_error: 0.1464 - val_loss: 0.0297 - val_mean_absolute_error: 0.1389\n",
      "Epoch 11/20\n",
      "364/364 [==============================] - 0s 1ms/step - loss: 0.0334 - mean_absolute_error: 0.1462 - val_loss: 0.0295 - val_mean_absolute_error: 0.1398\n",
      "Epoch 12/20\n",
      "364/364 [==============================] - 0s 1ms/step - loss: 0.0333 - mean_absolute_error: 0.1463 - val_loss: 0.0295 - val_mean_absolute_error: 0.1405\n",
      "Epoch 13/20\n",
      "364/364 [==============================] - 0s 1ms/step - loss: 0.0333 - mean_absolute_error: 0.1461 - val_loss: 0.0295 - val_mean_absolute_error: 0.1411\n",
      "Epoch 14/20\n",
      "364/364 [==============================] - 0s 1ms/step - loss: 0.0333 - mean_absolute_error: 0.1463 - val_loss: 0.0295 - val_mean_absolute_error: 0.1420\n",
      "Epoch 15/20\n",
      "364/364 [==============================] - 0s 1ms/step - loss: 0.0334 - mean_absolute_error: 0.1464 - val_loss: 0.0295 - val_mean_absolute_error: 0.1415\n",
      "Epoch 16/20\n",
      "364/364 [==============================] - 0s 1ms/step - loss: 0.0333 - mean_absolute_error: 0.1462 - val_loss: 0.0295 - val_mean_absolute_error: 0.1418\n",
      "Epoch 17/20\n",
      "364/364 [==============================] - 0s 1ms/step - loss: 0.0334 - mean_absolute_error: 0.1464 - val_loss: 0.0295 - val_mean_absolute_error: 0.1418\n",
      "Epoch 18/20\n",
      "364/364 [==============================] - 0s 1ms/step - loss: 0.0334 - mean_absolute_error: 0.1462 - val_loss: 0.0295 - val_mean_absolute_error: 0.1405\n",
      "Epoch 19/20\n",
      "364/364 [==============================] - 0s 1ms/step - loss: 0.0334 - mean_absolute_error: 0.1463 - val_loss: 0.0295 - val_mean_absolute_error: 0.1404\n",
      "Epoch 20/20\n",
      "364/364 [==============================] - 0s 1ms/step - loss: 0.0333 - mean_absolute_error: 0.1462 - val_loss: 0.0295 - val_mean_absolute_error: 0.1396\n",
      "Done\n"
     ]
    },
    {
     "data": {
      "text/plain": [
       "<matplotlib.legend.Legend at 0x2afe9fa4d610>"
      ]
     },
     "execution_count": 11,
     "metadata": {},
     "output_type": "execute_result"
    },
    {
     "data": {
      "image/png": "[encoded data removed]",
      "text/plain": [
       "<Figure size 432x288 with 1 Axes>"
      ]
     },
     "metadata": {},
     "output_type": "display_data"
    }
   ],
   "source": [
    "seed = 42\n",
    "total_data_df_shuffled = shuffle(total_data_df, random_state=seed)\n",
    "\n",
    "\n",
    "X = total_data_df_shuffled.drop([\"intercept\", \"Score\"], axis = 1)\n",
    "y = total_data_df_shuffled[[\"Score\"]]\n",
    "\n",
    "# Create a minimum and maximum processor object\n",
    "min_max_scaler = preprocessing.MinMaxScaler()\n",
    "\n",
    "# Create an object to transform the data to fit minmax processor\n",
    "y_scaled = min_max_scaler.fit_transform(y)\n",
    "\n",
    "# Run the normalizer on the dataframe\n",
    "y_normalized = pd.DataFrame(y_scaled, columns = ['Score_normalized'])\n",
    "\n",
    "(trainX, testX, trainY, testY) = train_test_split(X, y_normalized, test_size=0.1, random_state=seed)\n",
    "\n",
    "\n",
    "# import tensorflow as tf\n",
    "# from keras.backend.tensorflow_backend import set_session\n",
    "# config = tf.ConfigProto()\n",
    "# config.gpu_options.per_process_gpu_memory_fraction = 0.9\n",
    "# set_session(tf.Session(config=config))\n",
    "\n",
    "print(\"Create model...\")\n",
    "model = Sequential()\n",
    "model.add(Dense(10000, input_shape=(trainX.shape[1],), activation=\"sigmoid\"))\n",
    "model.add(Dense(5000, activation=\"sigmoid\"))\n",
    "model.add(Dense(500, activation=\"sigmoid\"))\n",
    "model.add(Dense(50, activation=\"sigmoid\"))\n",
    "model.add(Dense(1, activation=\"sigmoid\"))\n",
    "\n",
    "\n",
    "# initialize our initial learning rate and # of epochs to train for\n",
    "INIT_LR = 0.01\n",
    "EPOCHS = 20\n",
    "BATCH_SIZE = 30\n",
    "\n",
    "# compile the model\n",
    "print(\"Compile model...\")\n",
    "model.compile(loss='mean_squared_error', optimizer=\"SGD\", metrics=[\"mae\"])\n",
    "\n",
    "print(\"Fit model...\")\n",
    "H = model.fit(trainX, trainY, validation_data=(testX, testY), epochs=EPOCHS, batch_size=BATCH_SIZE)\n",
    "print(\"Done\")\n",
    "\n",
    "########### PLOT ######################\n",
    "\n",
    "# evaluate the network\n",
    "# print(\"[INFO] evaluating network...\")\n",
    "# predictions = model.predict(testX, batch_size=BATCH_SIZE)\n",
    "# print(classification_report(testY.argmax(axis=1),\n",
    "# predictions.argmax(axis=1), target_names=lb.classes_))\n",
    "\n",
    "# plot the training loss and accuracy\n",
    "N = np.arange(0, EPOCHS)\n",
    "plt.style.use(\"ggplot\")\n",
    "plt.figure()\n",
    "plt.plot(N, H.history[\"loss\"], label=\"train_loss\")\n",
    "plt.plot(N, H.history[\"val_loss\"], label=\"val_loss\")\n",
    "plt.plot(N, H.history[\"mean_absolute_error\"], label=\"train_mae\")\n",
    "plt.plot(N, H.history[\"val_mean_absolute_error\"], label=\"val_mae\")\n",
    "plt.title(\"Training Loss and Accuracy (Simple NN)\")\n",
    "plt.xlabel(\"Epoch #\")\n",
    "plt.ylabel(\"Loss/Accuracy\")\n",
    "plt.legend()\n",
    "# plt.savefig(args[\"plot\"])"
   ]
  }
 ],
 "metadata": {
  "kernelspec": {
   "display_name": "Python 2",
   "language": "python",
   "name": "python2"
  },
  "language_info": {
   "codemirror_mode": {
    "name": "ipython",
    "version": 2
   },
   "file_extension": ".py",
   "mimetype": "text/x-python",
   "name": "python",
   "nbconvert_exporter": "python",
   "pygments_lexer": "ipython2",
   "version": "2.7.15"
  }
 },
 "nbformat": 4,
 "nbformat_minor": 2
}
