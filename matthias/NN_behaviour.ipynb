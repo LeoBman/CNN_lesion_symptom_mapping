{
 "cells": [
  {
   "cell_type": "code",
   "execution_count": 5,
   "metadata": {},
   "outputs": [
    {
     "name": "stderr",
     "output_type": "stream",
     "text": [
      "Can not use cuDNN on context None: cannot compile with cuDNN. We got this error:\n",
      "/Users/mcrichter/anaconda3/envs/theano_py27/bin/../lib/gcc/x86_64-conda_cos6-linux-gnu/7.3.0/../../../../x86_64-conda_cos6-linux-gnu/bin/ld: cannot find -lcudnn\n",
      "collect2: error: ld returned 1 exit status\n",
      "\n",
      "Mapped name None to device cuda0: Tesla P100-PCIE-16GB (0000:81:00.0)\n"
     ]
    }
   ],
   "source": [
    "import nibabel as nib\n",
    "from nibabel.processing import resample_to_output\n",
    "import numpy as np\n",
    "import pandas as pd\n",
    "from glob import glob\n",
    "import re\n",
    "import matplotlib.pyplot as plt\n",
    "\n",
    "# Import libraries for keras\n",
    "# # set the matplotlib backend so figures can be saved in the background\n",
    "# import matplotlib\n",
    "# matplotlib.use(\"Agg\")\n",
    "import os\n",
    "os.environ[\"THEANO_FLAGS\"] = \"mode=FAST_RUN,device=cuda0,floatX=float32\"\n",
    "os.environ[\"KERAS_BACKEND\"] = \"theano\"\n",
    "import theano\n",
    "import keras\n",
    "\n",
    "# import the necessary packages\n",
    "# from sklearn.preprocessing import LabelBinarizer\n",
    "from sklearn.model_selection import train_test_split\n",
    "from sklearn.utils import shuffle\n",
    "from sklearn import preprocessing\n",
    "from sklearn.metrics import classification_report\n",
    "from keras.models import Sequential\n",
    "from keras.layers.core import Dense\n",
    "# from keras.optimizers import SGD\n",
    "# from imutils import paths\n",
    "# import argparse\n",
    "import random\n",
    "# import pickle\n",
    "# import cv2\n",
    "import os\n",
    "import os.path"
   ]
  },
  {
   "cell_type": "code",
   "execution_count": 6,
   "metadata": {},
   "outputs": [],
   "source": [
    "'''\n",
    "    Checks whether a file exists and converts to local or cluster path if necessary\n",
    "'''\n",
    "def check_file_path(file_path):\n",
    "    if os.path.isfile(file_path):\n",
    "        return file_path\n",
    "    else:\n",
    "        to_cluster_path = \"/Dedicated/jmichaelson-\" + file_path[1:]\n",
    "        to_local_path = \"/\" + file_path[22:]\n",
    "\n",
    "        if os.path.isfile(to_cluster_path):\n",
    "            return to_cluster_path\n",
    "        elif os.path.isfile(to_local_path):\n",
    "            return to_local_path\n",
    "        else:\n",
    "            print(\"No valid file path\")\n",
    "            return \"NOPE\""
   ]
  },
  {
   "cell_type": "code",
   "execution_count": 9,
   "metadata": {},
   "outputs": [],
   "source": [
    "data_array_flattened = np.load(\"/Dedicated/jmichaelson-wdata/mcrichter/HackUiowa2018/DATA/All_subs_405_LM_np_array_flattened.npy\")\n",
    "labels_array = np.load(\"/Dedicated/jmichaelson-wdata/mcrichter/HackUiowa2018/DATA/All_subs_405_labels.npy\")\n",
    "data_array_flattened_reduced = np.load(\"/Dedicated/jmichaelson-wdata/mcrichter/HackUiowa2018/DATA/All_subs_405_LM_np_array_flattened_reduced.npy\")"
   ]
  },
  {
   "cell_type": "code",
   "execution_count": null,
   "metadata": {},
   "outputs": [
    {
     "name": "stdout",
     "output_type": "stream",
     "text": [
      "Create model...\n",
      "Compile model...\n",
      "Fit model...\n",
      "Train on 364 samples, validate on 41 samples\n",
      "Epoch 1/20\n"
     ]
    }
   ],
   "source": [
    "seed = 42\n",
    "\n",
    "\n",
    "X = data_array_flattened_reduced\n",
    "y = labels_array\n",
    "\n",
    "(trainX, testX, trainY, testY) = train_test_split(X, y, test_size=0.1, random_state=seed)\n",
    "\n",
    "\n",
    "print(\"Create model...\")\n",
    "model = Sequential()\n",
    "model.add(Dense(10000, input_shape=(trainX.shape[1],), activation=\"sigmoid\"))\n",
    "model.add(Dense(5000, activation=\"sigmoid\"))\n",
    "model.add(Dense(500, activation=\"sigmoid\"))\n",
    "model.add(Dense(50, activation=\"sigmoid\"))\n",
    "model.add(Dense(1, activation=\"sigmoid\"))\n",
    "\n",
    "\n",
    "# initialize our initial learning rate and # of epochs to train for\n",
    "INIT_LR = 0.01\n",
    "EPOCHS = 20\n",
    "BATCH_SIZE = 30\n",
    "\n",
    "# compile the model\n",
    "print(\"Compile model...\")\n",
    "model.compile(loss='mean_squared_error', optimizer=\"SGD\", metrics=[\"mae\"])\n",
    "\n",
    "print(\"Fit model...\")\n",
    "H = model.fit(trainX, trainY, validation_data=(testX, testY), epochs=EPOCHS, batch_size=BATCH_SIZE)\n",
    "print(\"Done\")\n",
    "\n",
    "########### PLOT ######################\n",
    "\n",
    "# evaluate the network\n",
    "# print(\"[INFO] evaluating network...\")\n",
    "# predictions = model.predict(testX, batch_size=BATCH_SIZE)\n",
    "# print(classification_report(testY.argmax(axis=1),\n",
    "# predictions.argmax(axis=1), target_names=lb.classes_))\n",
    "\n",
    "# plot the training loss and accuracy\n",
    "N = np.arange(0, EPOCHS)\n",
    "plt.style.use(\"ggplot\")\n",
    "plt.figure()\n",
    "plt.plot(N, H.history[\"loss\"], label=\"train_loss\")\n",
    "plt.plot(N, H.history[\"val_loss\"], label=\"val_loss\")\n",
    "plt.plot(N, H.history[\"mean_absolute_error\"], label=\"train_mae\")\n",
    "plt.plot(N, H.history[\"val_mean_absolute_error\"], label=\"val_mae\")\n",
    "plt.title(\"Training Loss and Accuracy (Simple NN)\")\n",
    "plt.xlabel(\"Epoch #\")\n",
    "plt.ylabel(\"Loss/Accuracy\")\n",
    "plt.legend()\n",
    "# plt.savefig(args[\"plot\"])"
   ]
  },
  {
   "cell_type": "code",
   "execution_count": 3,
   "metadata": {},
   "outputs": [],
   "source": [
    "from custom_models import *"
   ]
  },
  {
   "cell_type": "code",
   "execution_count": 4,
   "metadata": {},
   "outputs": [
    {
     "ename": "TypeError",
     "evalue": "basic_cnn() takes at least 1 argument (0 given)",
     "output_type": "error",
     "traceback": [
      "\u001b[0;31m---------------------------------------------------------------------------\u001b[0m",
      "\u001b[0;31mTypeError\u001b[0m                                 Traceback (most recent call last)",
      "\u001b[0;32m<ipython-input-4-a384f3dc0415>\u001b[0m in \u001b[0;36m<module>\u001b[0;34m()\u001b[0m\n\u001b[0;32m----> 1\u001b[0;31m \u001b[0mbasic_cnn\u001b[0m\u001b[0;34m(\u001b[0m\u001b[0;34m)\u001b[0m\u001b[0;34m\u001b[0m\u001b[0m\n\u001b[0m",
      "\u001b[0;31mTypeError\u001b[0m: basic_cnn() takes at least 1 argument (0 given)"
     ]
    }
   ],
   "source": []
  },
  {
   "cell_type": "code",
   "execution_count": null,
   "metadata": {},
   "outputs": [],
   "source": []
  }
 ],
 "metadata": {
  "kernelspec": {
   "display_name": "Python 2",
   "language": "python",
   "name": "python2"
  },
  "language_info": {
   "codemirror_mode": {
    "name": "ipython",
    "version": 2
   },
   "file_extension": ".py",
   "mimetype": "text/x-python",
   "name": "python",
   "nbconvert_exporter": "python",
   "pygments_lexer": "ipython2",
   "version": "2.7.15"
  }
 },
 "nbformat": 4,
 "nbformat_minor": 2
}
