{
 "cells": [
  {
   "cell_type": "code",
   "execution_count": 1,
   "metadata": {},
   "outputs": [
    {
     "name": "stderr",
     "output_type": "stream",
     "text": [
      "Can not use cuDNN on context None: cannot compile with cuDNN. We got this error:\n",
      "/Users/mcrichter/anaconda3/envs/theano_py27/bin/../lib/gcc/x86_64-conda_cos6-linux-gnu/7.3.0/../../../../x86_64-conda_cos6-linux-gnu/bin/ld: cannot find -lcudnn\n",
      "collect2: error: ld returned 1 exit status\n",
      "\n",
      "Mapped name None to device cuda0: Tesla P100-PCIE-16GB (0000:81:00.0)\n",
      "Using Theano backend.\n"
     ]
    }
   ],
   "source": [
    "import nibabel as nib\n",
    "from nibabel.processing import resample_to_output\n",
    "import numpy as np\n",
    "import pandas as pd\n",
    "from glob import glob\n",
    "import re\n",
    "import matplotlib.pyplot as plt\n",
    "\n",
    "# Import libraries for keras\n",
    "# # set the matplotlib backend so figures can be saved in the background\n",
    "# import matplotlib\n",
    "# matplotlib.use(\"Agg\")\n",
    "import os\n",
    "os.environ[\"THEANO_FLAGS\"] = \"mode=FAST_RUN,device=cuda0,floatX=float32\"\n",
    "os.environ[\"KERAS_BACKEND\"] = \"theano\"\n",
    "import theano\n",
    "import keras\n",
    "\n",
    "# import the necessary packages\n",
    "# from sklearn.preprocessing import LabelBinarizer\n",
    "from sklearn.model_selection import train_test_split\n",
    "from sklearn.utils import shuffle\n",
    "from sklearn import preprocessing\n",
    "from sklearn.metrics import classification_report\n",
    "from keras.models import Sequential\n",
    "from keras.layers.core import Dense\n",
    "# from keras.optimizers import SGD\n",
    "# from imutils import paths\n",
    "# import argparse\n",
    "import random\n",
    "# import pickle\n",
    "# import cv2\n",
    "import os\n",
    "import os.path"
   ]
  },
  {
   "cell_type": "code",
   "execution_count": 2,
   "metadata": {},
   "outputs": [],
   "source": [
    "'''\n",
    "    Checks whether a file exists and converts to local or cluster path if necessary\n",
    "'''\n",
    "def check_file_path(file_path):\n",
    "    if os.path.isfile(file_path):\n",
    "        return file_path\n",
    "    else:\n",
    "        to_cluster_path = \"/Dedicated/jmichaelson-\" + file_path[1:]\n",
    "        to_local_path = \"/\" + file_path[22:]\n",
    "\n",
    "        if os.path.isfile(to_cluster_path):\n",
    "            return to_cluster_path\n",
    "        elif os.path.isfile(to_local_path):\n",
    "            return to_local_path\n",
    "        else:\n",
    "            print(\"No valid file path\")\n",
    "            return \"NOPE\""
   ]
  },
  {
   "cell_type": "code",
   "execution_count": 9,
   "metadata": {},
   "outputs": [
    {
     "ename": "IOError",
     "evalue": "[Errno 2] No such file or directory: '/Dedicated/jmichaelson-wdata/mcrichter/HackUiowa2018/DATA/All_subs_405_LM_np_array_flattened_reduced.npy'",
     "output_type": "error",
     "traceback": [
      "\u001b[0;31m---------------------------------------------------------------------------\u001b[0m",
      "\u001b[0;31mIOError\u001b[0m                                   Traceback (most recent call last)",
      "\u001b[0;32m<ipython-input-9-7554a1707fc0>\u001b[0m in \u001b[0;36m<module>\u001b[0;34m()\u001b[0m\n\u001b[1;32m      1\u001b[0m \u001b[0mdata_array_flattened\u001b[0m \u001b[0;34m=\u001b[0m \u001b[0mnp\u001b[0m\u001b[0;34m.\u001b[0m\u001b[0mload\u001b[0m\u001b[0;34m(\u001b[0m\u001b[0;34m\"/Dedicated/jmichaelson-wdata/mcrichter/HackUiowa2018/DATA/All_subs_405_LM_np_array_flattened.npy\"\u001b[0m\u001b[0;34m)\u001b[0m\u001b[0;34m\u001b[0m\u001b[0m\n\u001b[1;32m      2\u001b[0m \u001b[0mlabels_array\u001b[0m \u001b[0;34m=\u001b[0m \u001b[0mnp\u001b[0m\u001b[0;34m.\u001b[0m\u001b[0mload\u001b[0m\u001b[0;34m(\u001b[0m\u001b[0;34m\"/Dedicated/jmichaelson-wdata/mcrichter/HackUiowa2018/DATA/All_subs_405_labels.npy\"\u001b[0m\u001b[0;34m)\u001b[0m\u001b[0;34m\u001b[0m\u001b[0m\n\u001b[0;32m----> 3\u001b[0;31m \u001b[0mdata_array_flattened_reduced\u001b[0m \u001b[0;34m=\u001b[0m \u001b[0mnp\u001b[0m\u001b[0;34m.\u001b[0m\u001b[0mload\u001b[0m\u001b[0;34m(\u001b[0m\u001b[0;34m\"/Dedicated/jmichaelson-wdata/mcrichter/HackUiowa2018/DATA/All_subs_405_LM_np_array_flattened_reduced.npy\"\u001b[0m\u001b[0;34m)\u001b[0m\u001b[0;34m\u001b[0m\u001b[0m\n\u001b[0m",
      "\u001b[0;32m/Users/mcrichter/anaconda3/envs/theano_py27/lib/python2.7/site-packages/numpy/lib/npyio.pyc\u001b[0m in \u001b[0;36mload\u001b[0;34m(file, mmap_mode, allow_pickle, fix_imports, encoding)\u001b[0m\n\u001b[1;32m    382\u001b[0m     \u001b[0mown_fid\u001b[0m \u001b[0;34m=\u001b[0m \u001b[0mFalse\u001b[0m\u001b[0;34m\u001b[0m\u001b[0m\n\u001b[1;32m    383\u001b[0m     \u001b[0;32mif\u001b[0m \u001b[0misinstance\u001b[0m\u001b[0;34m(\u001b[0m\u001b[0mfile\u001b[0m\u001b[0;34m,\u001b[0m \u001b[0mbasestring\u001b[0m\u001b[0;34m)\u001b[0m\u001b[0;34m:\u001b[0m\u001b[0;34m\u001b[0m\u001b[0m\n\u001b[0;32m--> 384\u001b[0;31m         \u001b[0mfid\u001b[0m \u001b[0;34m=\u001b[0m \u001b[0mopen\u001b[0m\u001b[0;34m(\u001b[0m\u001b[0mfile\u001b[0m\u001b[0;34m,\u001b[0m \u001b[0;34m\"rb\"\u001b[0m\u001b[0;34m)\u001b[0m\u001b[0;34m\u001b[0m\u001b[0m\n\u001b[0m\u001b[1;32m    385\u001b[0m         \u001b[0mown_fid\u001b[0m \u001b[0;34m=\u001b[0m \u001b[0mTrue\u001b[0m\u001b[0;34m\u001b[0m\u001b[0m\n\u001b[1;32m    386\u001b[0m     \u001b[0;32melif\u001b[0m \u001b[0mis_pathlib_path\u001b[0m\u001b[0;34m(\u001b[0m\u001b[0mfile\u001b[0m\u001b[0;34m)\u001b[0m\u001b[0;34m:\u001b[0m\u001b[0;34m\u001b[0m\u001b[0m\n",
      "\u001b[0;31mIOError\u001b[0m: [Errno 2] No such file or directory: '/Dedicated/jmichaelson-wdata/mcrichter/HackUiowa2018/DATA/All_subs_405_LM_np_array_flattened_reduced.npy'"
     ]
    }
   ],
   "source": [
    "data_array_flattened = np.load(\"/Dedicated/jmichaelson-wdata/mcrichter/HackUiowa2018/DATA/All_subs_405_LM_np_array_flattened.npy\")\n",
    "labels_array = np.load(\"/Dedicated/jmichaelson-wdata/mcrichter/HackUiowa2018/DATA/All_subs_405_labels.npy\")\n",
    "data_array_flattened_reduced = np.load(\"/Dedicated/jmichaelson-wdata/mcrichter/HackUiowa2018/DATA/All_subs_405_LM_np_array_flattened_reduced.npy\")"
   ]
  },
  {
   "cell_type": "code",
   "execution_count": 6,
   "metadata": {},
   "outputs": [
    {
     "name": "stdout",
     "output_type": "stream",
     "text": [
      "Create model...\n",
      "Compile model...\n"
     ]
    }
   ],
   "source": [
    "seed = 42\n",
    "total_data_df_shuffled = shuffle(total_data_df, random_state=seed)\n",
    "\n",
    "\n",
    "X = total_data_df_shuffled.drop([\"intercept\", \"Score\"], axis = 1)\n",
    "y = total_data_df_shuffled[[\"Score\"]]\n",
    "\n",
    "# Create a minimum and maximum processor object\n",
    "min_max_scaler = preprocessing.MinMaxScaler()\n",
    "\n",
    "# Create an object to transform the data to fit minmax processor\n",
    "y_scaled = min_max_scaler.fit_transform(y)\n",
    "\n",
    "# Run the normalizer on the dataframe\n",
    "y_normalized = pd.DataFrame(y_scaled, columns = ['Score_normalized'])\n",
    "\n",
    "(trainX, testX, trainY, testY) = train_test_split(X, y_normalized, test_size=0.1, random_state=seed)\n",
    "\n",
    "\n",
    "# import tensorflow as tf\n",
    "# from keras.backend.tensorflow_backend import set_session\n",
    "# config = tf.ConfigProto()\n",
    "# config.gpu_options.per_process_gpu_memory_fraction = 0.9\n",
    "# set_session(tf.Session(config=config))\n",
    "\n",
    "print(\"Create model...\")\n",
    "model = Sequential()\n",
    "model.add(Dense(10000, input_shape=(trainX.shape[1],), activation=\"sigmoid\"))\n",
    "model.add(Dense(5000, activation=\"sigmoid\"))\n",
    "model.add(Dense(500, activation=\"sigmoid\"))\n",
    "model.add(Dense(50, activation=\"sigmoid\"))\n",
    "model.add(Dense(1))\n",
    "\n",
    "\n",
    "# initialize our initial learning rate and # of epochs to train for\n",
    "INIT_LR = 0.01\n",
    "EPOCHS = 20\n",
    "BATCH_SIZE = 30\n",
    "\n",
    "# compile the model\n",
    "print(\"Compile model...\")\n",
    "model.compile(loss='mean_squared_error', optimizer=\"SGD\", metrics=[\"mae\"])"
   ]
  },
  {
   "cell_type": "code",
   "execution_count": 8,
   "metadata": {},
   "outputs": [
    {
     "name": "stdout",
     "output_type": "stream",
     "text": [
      "Fit model...\n",
      "Train on 364 samples, validate on 41 samples\n",
      "Epoch 1/20\n",
      "364/364 [==============================] - 0s 1ms/step - loss: 0.0504 - mean_absolute_error: 0.1726 - val_loss: 0.0306 - val_mean_absolute_error: 0.1510\n",
      "Epoch 2/20\n",
      "364/364 [==============================] - 0s 1ms/step - loss: 0.0341 - mean_absolute_error: 0.1477 - val_loss: 0.0350 - val_mean_absolute_error: 0.1642\n",
      "Epoch 3/20\n",
      "364/364 [==============================] - 0s 1ms/step - loss: 0.0350 - mean_absolute_error: 0.1493 - val_loss: 0.0346 - val_mean_absolute_error: 0.1633\n",
      "Epoch 4/20\n",
      "364/364 [==============================] - 0s 1ms/step - loss: 0.0332 - mean_absolute_error: 0.1463 - val_loss: 0.0442 - val_mean_absolute_error: 0.1628\n",
      "Epoch 5/20\n",
      "364/364 [==============================] - 0s 1ms/step - loss: 0.0343 - mean_absolute_error: 0.1473 - val_loss: 0.0312 - val_mean_absolute_error: 0.1538\n",
      "Epoch 6/20\n",
      "364/364 [==============================] - 0s 1ms/step - loss: 0.0345 - mean_absolute_error: 0.1488 - val_loss: 0.0335 - val_mean_absolute_error: 0.1423\n",
      "Epoch 7/20\n",
      "364/364 [==============================] - 0s 1ms/step - loss: 0.0340 - mean_absolute_error: 0.1477 - val_loss: 0.0329 - val_mean_absolute_error: 0.1412\n",
      "Epoch 8/20\n",
      "364/364 [==============================] - 0s 1ms/step - loss: 0.0336 - mean_absolute_error: 0.1467 - val_loss: 0.0303 - val_mean_absolute_error: 0.1499\n",
      "Epoch 9/20\n",
      "364/364 [==============================] - 0s 1ms/step - loss: 0.0339 - mean_absolute_error: 0.1464 - val_loss: 0.0334 - val_mean_absolute_error: 0.1423\n",
      "Epoch 10/20\n",
      "364/364 [==============================] - 0s 1ms/step - loss: 0.0340 - mean_absolute_error: 0.1473 - val_loss: 0.0309 - val_mean_absolute_error: 0.1527\n",
      "Epoch 11/20\n",
      "364/364 [==============================] - 0s 1ms/step - loss: 0.0338 - mean_absolute_error: 0.1472 - val_loss: 0.0345 - val_mean_absolute_error: 0.1631\n",
      "Epoch 12/20\n",
      "364/364 [==============================] - 0s 1ms/step - loss: 0.0340 - mean_absolute_error: 0.1485 - val_loss: 0.0371 - val_mean_absolute_error: 0.1501\n",
      "Epoch 13/20\n",
      "364/364 [==============================] - 0s 1ms/step - loss: 0.0341 - mean_absolute_error: 0.1473 - val_loss: 0.0303 - val_mean_absolute_error: 0.1374\n",
      "Epoch 14/20\n",
      "364/364 [==============================] - 0s 1ms/step - loss: 0.0337 - mean_absolute_error: 0.1470 - val_loss: 0.0370 - val_mean_absolute_error: 0.1499\n",
      "Epoch 15/20\n",
      "364/364 [==============================] - 0s 1ms/step - loss: 0.0343 - mean_absolute_error: 0.1495 - val_loss: 0.0316 - val_mean_absolute_error: 0.1391\n",
      "Epoch 16/20\n",
      "364/364 [==============================] - 0s 1ms/step - loss: 0.0347 - mean_absolute_error: 0.1482 - val_loss: 0.0298 - val_mean_absolute_error: 0.1473\n",
      "Epoch 17/20\n",
      "364/364 [==============================] - 0s 1ms/step - loss: 0.0342 - mean_absolute_error: 0.1483 - val_loss: 0.0293 - val_mean_absolute_error: 0.1400\n",
      "Epoch 18/20\n",
      "364/364 [==============================] - 1s 2ms/step - loss: 0.0340 - mean_absolute_error: 0.1476 - val_loss: 0.0376 - val_mean_absolute_error: 0.1510\n",
      "Epoch 19/20\n",
      "364/364 [==============================] - 1s 1ms/step - loss: 0.0339 - mean_absolute_error: 0.1485 - val_loss: 0.0348 - val_mean_absolute_error: 0.1638\n",
      "Epoch 20/20\n",
      "364/364 [==============================] - 0s 1ms/step - loss: 0.0341 - mean_absolute_error: 0.1478 - val_loss: 0.0367 - val_mean_absolute_error: 0.1678\n",
      "Done\n"
     ]
    },
    {
     "data": {
      "text/plain": [
       "<matplotlib.legend.Legend at 0x2ac60cf57bd0>"
      ]
     },
     "execution_count": 8,
     "metadata": {},
     "output_type": "execute_result"
    },
    {
     "data": {
      "image/png": "[encoded data removed]",
      "text/plain": [
       "<Figure size 432x288 with 1 Axes>"
      ]
     },
     "metadata": {},
     "output_type": "display_data"
    }
   ],
   "source": [
    "print(\"Fit model...\")\n",
    "H = model.fit(trainX, trainY, validation_data=(testX, testY), epochs=EPOCHS, batch_size=BATCH_SIZE)\n",
    "print(\"Done\")\n",
    "\n",
    "########### PLOT ######################\n",
    "\n",
    "# evaluate the network\n",
    "# print(\"[INFO] evaluating network...\")\n",
    "# predictions = model.predict(testX, batch_size=BATCH_SIZE)\n",
    "# print(classification_report(testY.argmax(axis=1),\n",
    "# predictions.argmax(axis=1), target_names=lb.classes_))\n",
    "\n",
    "# plot the training loss and accuracy\n",
    "N = np.arange(0, EPOCHS)\n",
    "plt.style.use(\"ggplot\")\n",
    "plt.figure()\n",
    "plt.plot(N, H.history[\"loss\"], label=\"train_loss\")\n",
    "plt.plot(N, H.history[\"val_loss\"], label=\"val_loss\")\n",
    "plt.plot(N, H.history[\"mean_absolute_error\"], label=\"train_mae\")\n",
    "plt.plot(N, H.history[\"val_mean_absolute_error\"], label=\"val_mae\")\n",
    "plt.title(\"Training Loss and Accuracy (Simple NN)\")\n",
    "plt.xlabel(\"Epoch #\")\n",
    "plt.ylabel(\"Loss/Accuracy\")\n",
    "plt.legend()\n",
    "# plt.savefig(args[\"plot\"])"
   ]
  },
  {
   "cell_type": "code",
   "execution_count": 21,
   "metadata": {},
   "outputs": [
    {
     "ename": "ImportError",
     "evalue": "No module named custom_models",
     "output_type": "error",
     "traceback": [
      "\u001b[0;31m---------------------------------------------------------------------------\u001b[0m",
      "\u001b[0;31mImportError\u001b[0m                               Traceback (most recent call last)",
      "\u001b[0;32m<ipython-input-21-5a1558b0ebb5>\u001b[0m in \u001b[0;36m<module>\u001b[0;34m()\u001b[0m\n\u001b[0;32m----> 1\u001b[0;31m \u001b[0;32mimport\u001b[0m \u001b[0mcustom_models\u001b[0m\u001b[0;34m\u001b[0m\u001b[0m\n\u001b[0m",
      "\u001b[0;31mImportError\u001b[0m: No module named custom_models"
     ]
    }
   ],
   "source": [
    "import custom_models"
   ]
  },
  {
   "cell_type": "code",
   "execution_count": null,
   "metadata": {},
   "outputs": [],
   "source": []
  }
 ],
 "metadata": {
  "kernelspec": {
   "display_name": "Python 2",
   "language": "python",
   "name": "python2"
  },
  "language_info": {
   "codemirror_mode": {
    "name": "ipython",
    "version": 2
   },
   "file_extension": ".py",
   "mimetype": "text/x-python",
   "name": "python",
   "nbconvert_exporter": "python",
   "pygments_lexer": "ipython2",
   "version": "2.7.15"
  }
 },
 "nbformat": 4,
 "nbformat_minor": 2
}
