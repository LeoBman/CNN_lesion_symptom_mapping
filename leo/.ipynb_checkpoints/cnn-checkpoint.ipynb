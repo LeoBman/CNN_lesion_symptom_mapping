{
 "cells": [
  {
   "cell_type": "markdown",
   "metadata": {},
   "source": [
    "# Deep Learning with Lesion Data Notebook"
   ]
  },
  {
   "cell_type": "markdown",
   "metadata": {},
   "source": [
    "### Library load\n",
    "In this notebook we will do deep learning on MRI-derived patient lesion stroke data to predict a subjects performance on a variety of neurological tests on abilities such as memory and intelligence. We choose to use Keras as a front-end for our deep learning models, with back-end being Theano. We also use a lot of scikit wrappers for automating cross-validation and performance evaluation.\n",
    "\n",
    "Below, begin by loading in the packages required for our deep learning protocol. "
   ]
  },
  {
   "cell_type": "code",
   "execution_count": 3,
   "metadata": {},
   "outputs": [],
   "source": [
    "%matplotlib inline\n",
    "import nibabel as nib\n",
    "from nibabel.processing import resample_to_output\n",
    "import numpy as np\n",
    "import random\n",
    "import pandas as pd\n",
    "import matplotlib.pyplot as plt\n",
    "from glob import glob\n",
    "import re\n",
    "\n",
    "from sklearn.model_selection import train_test_split, KFold, cross_val_score, cross_validate, cross_val_predict\n",
    "from sklearn.utils import shuffle\n",
    "from sklearn import preprocessing\n",
    "from sklearn.preprocessing import normalize\n",
    "from sklearn.metrics import classification_report\n",
    "\n",
    "seed = 42\n",
    "np.random.seed(seed)  # for reproducibility"
   ]
  },
  {
   "cell_type": "code",
   "execution_count": 4,
   "metadata": {},
   "outputs": [],
   "source": [
    "import os\n",
    "os.environ[\"THEANO_FLAGS\"] = \"mode=FAST_RUN,device=cuda0,floatX=float32\"\n",
    "os.environ[\"KERAS_BACKEND\"] = \"theano\"\n",
    "import theano\n",
    "import keras\n",
    "from keras.models import Sequential\n",
    "from keras.layers import Dense, Dropout, Activation, Flatten\n",
    "from keras.layers import Convolution3D, MaxPooling3D\n",
    "from keras.utils import np_utils\n",
    "from keras.wrappers.scikit_learn import KerasRegressor\n"
   ]
  },
  {
   "cell_type": "markdown",
   "metadata": {},
   "source": [
    "### Load phenotype data for each subject"
   ]
  },
  {
   "cell_type": "code",
   "execution_count": 5,
   "metadata": {},
   "outputs": [
    {
     "data": {
      "text/html": [
       "<div>\n",
       "<style scoped>\n",
       "    .dataframe tbody tr th:only-of-type {\n",
       "        vertical-align: middle;\n",
       "    }\n",
       "\n",
       "    .dataframe tbody tr th {\n",
       "        vertical-align: top;\n",
       "    }\n",
       "\n",
       "    .dataframe thead th {\n",
       "        text-align: right;\n",
       "    }\n",
       "</style>\n",
       "<table border=\"1\" class=\"dataframe\">\n",
       "  <thead>\n",
       "    <tr style=\"text-align: right;\">\n",
       "      <th></th>\n",
       "      <th>Gc</th>\n",
       "      <th>Gv</th>\n",
       "      <th>Gl</th>\n",
       "      <th>Gs</th>\n",
       "    </tr>\n",
       "    <tr>\n",
       "      <th>ID</th>\n",
       "      <th></th>\n",
       "      <th></th>\n",
       "      <th></th>\n",
       "      <th></th>\n",
       "    </tr>\n",
       "  </thead>\n",
       "  <tbody>\n",
       "    <tr>\n",
       "      <th>1105</th>\n",
       "      <td>1.023653</td>\n",
       "      <td>0.991524</td>\n",
       "      <td>0.462879</td>\n",
       "      <td>0.511900</td>\n",
       "    </tr>\n",
       "    <tr>\n",
       "      <th>1125</th>\n",
       "      <td>-0.223765</td>\n",
       "      <td>-1.001832</td>\n",
       "      <td>-1.862046</td>\n",
       "      <td>-0.327059</td>\n",
       "    </tr>\n",
       "    <tr>\n",
       "      <th>1130</th>\n",
       "      <td>-1.127033</td>\n",
       "      <td>-1.870645</td>\n",
       "      <td>-0.899005</td>\n",
       "      <td>-2.209004</td>\n",
       "    </tr>\n",
       "    <tr>\n",
       "      <th>1362</th>\n",
       "      <td>-0.063546</td>\n",
       "      <td>0.850259</td>\n",
       "      <td>0.470841</td>\n",
       "      <td>0.756666</td>\n",
       "    </tr>\n",
       "    <tr>\n",
       "      <th>1381</th>\n",
       "      <td>0.450993</td>\n",
       "      <td>0.810722</td>\n",
       "      <td>0.667942</td>\n",
       "      <td>0.606078</td>\n",
       "    </tr>\n",
       "  </tbody>\n",
       "</table>\n",
       "</div>"
      ],
      "text/plain": [
       "            Gc        Gv        Gl        Gs\n",
       "ID                                          \n",
       "1105  1.023653  0.991524  0.462879  0.511900\n",
       "1125 -0.223765 -1.001832 -1.862046 -0.327059\n",
       "1130 -1.127033 -1.870645 -0.899005 -2.209004\n",
       "1362 -0.063546  0.850259  0.470841  0.756666\n",
       "1381  0.450993  0.810722  0.667942  0.606078"
      ]
     },
     "execution_count": 5,
     "metadata": {},
     "output_type": "execute_result"
    }
   ],
   "source": [
    "# zero-pad some of the entries so they match the filenames\n",
    "df = pd.read_csv('C:/Users/Leo/Documents/GradSchool/2018_IA_Hackathon/data/phenotype/phenotype_t1.csv',\n",
    "                converters={'ID': lambda x: str(x).zfill(4)})\n",
    "# make the ID the index in the pandas dataframe\n",
    "df.set_index('ID', inplace=True)\n",
    "df.head()"
   ]
  },
  {
   "cell_type": "markdown",
   "metadata": {},
   "source": []
  },
  {
   "cell_type": "markdown",
   "metadata": {},
   "source": [
    "### Load lesion mask data, t1-weighted MRI data, and combine into single object"
   ]
  },
  {
   "cell_type": "code",
   "execution_count": 9,
   "metadata": {
    "scrolled": true
   },
   "outputs": [],
   "source": [
    "# load lesion mask data\n",
    "data = list()\n",
    "i=1\n",
    "labels = []\n",
    "pheno = []\n",
    "lesion_masks = glob('C:/Users/Leo/Documents/GradSchool/2018_IA_Hackathon/data/Hackathon_Lesion_Data/LESYMAP_trainingSet/*.nii.gz')\n",
    "for les_file in lesion_masks:\n",
    "    match = re.match(r'.*\\\\([0-9]{4}).nii.gz', les_file)\n",
    "    sub_id = match.groups()[0]\n",
    "    if sub_id in df.index:   \n",
    "        pheno.append(df.loc[sub_id]['Gc'])\n",
    "        labels.append(sub_id)\n",
    "        les_img = nib.load(les_file)\n",
    "        les_img_resamp = resample_to_output(les_img, voxel_sizes=(5, 5, 5))\n",
    "        les_data = les_img_resamp.get_data()\n",
    "        data.append(les_data)"
   ]
  },
  {
   "cell_type": "code",
   "execution_count": 8,
   "metadata": {},
   "outputs": [],
   "source": [
    "# load normalized t1-weighted MRI data\n",
    "t1 = np.load('C:/Users/Leo/Documents/GradSchool/2018_IA_Hackathon/data/Hackathon_Lesion_Data/lesion_normalized/t1_hnorm.npy')\n",
    "t1 = [resample_to_output(nib.Nifti1Image(i, np.eye(4)),voxel_sizes=(5,5,5)).get_data() for i in t1]"
   ]
  },
  {
   "cell_type": "code",
   "execution_count": 10,
   "metadata": {},
   "outputs": [],
   "source": [
    "# combine lesion mask and t1 data into one object\n",
    "label_guide = np.load('C:/Users/Leo/Documents/GradSchool/2018_IA_Hackathon/data/phenotype/t1_labels.npy')\n",
    "# order check \n",
    "#[str(int(x)) for x in label_guide[:,0]] == labels\n",
    "\n",
    "data_array = np.array(data)\n",
    "t1_array = np.array(t1)\n",
    "data_reshape = data_array.reshape((data_array.shape[0], 1, *data_array.shape[1:4]))\n",
    "t1_reshape = t1_array.reshape((t1_array.shape[0], 1, *t1_array.shape[1:4]))\n",
    "X = np.append(data_reshape, t1_reshape, axis = 1)\n",
    "# save input data shape\n",
    "input_shape = X[0].shape\n",
    "# Normalize the training labels\n",
    "Y = pheno / np.linalg.norm(pheno)"
   ]
  },
  {
   "cell_type": "markdown",
   "metadata": {},
   "source": [
    "### Import required Keras functions and define model"
   ]
  },
  {
   "cell_type": "code",
   "execution_count": 11,
   "metadata": {},
   "outputs": [],
   "source": [
    "import keras\n",
    "from keras.datasets import mnist\n",
    "from keras.layers import Dense, Flatten\n",
    "from keras.layers import Conv3D, MaxPooling3D\n",
    "from keras.models import Sequential\n",
    "import matplotlib.pylab as plt\n",
    "from keras.callbacks import Callback\n",
    "from keras.callbacks import EarlyStopping"
   ]
  },
  {
   "cell_type": "markdown",
   "metadata": {},
   "source": [
    "![img1](https://www.researchgate.net/profile/Le_Lu/publication/277335071/figure/fig8/AS:294249976352779@1447166069905/The-proposed-CNN-model-architecture-is-composed-of-five-convolutional-layers-with.png)"
   ]
  },
  {
   "cell_type": "code",
   "execution_count": 12,
   "metadata": {},
   "outputs": [],
   "source": [
    "# define the model\n",
    "def keras_model():\n",
    "    model = Sequential()\n",
    "    model.add(Convolution3D(32, (5,5,5), activation='relu', input_shape=input_shape, data_format = 'channels_first'))\n",
    "    model.add(Convolution3D(32, (5,5,5), activation='relu', input_shape=input_shape, data_format = 'channels_first'))\n",
    "    model.add(MaxPooling3D(pool_size=(2,2,2)))\n",
    "    model.add(Convolution3D(64, (2,2,2), activation='relu'))\n",
    "    model.add(Dropout(0.25))\n",
    "    model.add(MaxPooling3D(pool_size=(2,2,2)))\n",
    "    model.add(Convolution3D(64, (2,2,2), activation='relu'))\n",
    "    model.add(MaxPooling3D(pool_size=(2,2,2)))\n",
    "    model.add(Dropout(0.25))\n",
    "    model.add(Flatten())\n",
    "    model.add(Dense(1000, activation='relu'))\n",
    "    model.add(Dropout(0.2))\n",
    "    model.add(Dense(1))\n",
    "    model.compile(loss='mse',\n",
    "              optimizer='adam',\n",
    "              metrics=['mae'])\n",
    "    return model"
   ]
  },
  {
   "cell_type": "markdown",
   "metadata": {},
   "source": [
    "### Parameter grid search optimization (cross-validated)"
   ]
  },
  {
   "cell_type": "code",
   "execution_count": 13,
   "metadata": {},
   "outputs": [
    {
     "name": "stderr",
     "output_type": "stream",
     "text": [
      "C:\\Users\\Leo\\Anaconda3\\lib\\site-packages\\sklearn\\model_selection\\_split.py:1943: FutureWarning: You should specify a value for 'cv' instead of relying on the default value. The default value will change from 3 to 5 in version 0.22.\n",
      "  warnings.warn(CV_WARNING, FutureWarning)\n"
     ]
    },
    {
     "name": "stdout",
     "output_type": "stream",
     "text": [
      "Best params yield MSE: -0.012765 using {'batch_size': 1, 'epochs': 3}\n",
      "-0.012765 (0.002604) with: {'batch_size': 1, 'epochs': 3}\n"
     ]
    }
   ],
   "source": [
    "# parameter grid search optimization\n",
    "from sklearn.model_selection import GridSearchCV\n",
    "\n",
    "param_grid = dict(epochs=[3], batch_size=[1])\n",
    "estimator = KerasRegressor(build_fn=keras_model, verbose=0)\n",
    "grid = GridSearchCV(estimator=estimator, param_grid=param_grid)\n",
    "grid_result = grid.fit(X,Y)\n",
    "\n",
    "# summarize parameter search results\n",
    "print(\"Best params yield MSE: %f using %s\" % (grid_result.best_score_, grid_result.best_params_))\n",
    "means = grid_result.cv_results_['mean_test_score']\n",
    "stds = grid_result.cv_results_['std_test_score']\n",
    "params = grid_result.cv_results_['params']\n",
    "for mean, stdev, param in zip(means, stds, params):\n",
    "    print(\"%f (%f) with: %r\" % (mean, stdev, param))"
   ]
  },
  {
   "cell_type": "markdown",
   "metadata": {},
   "source": [
    "### Model train"
   ]
  },
  {
   "cell_type": "code",
   "execution_count": 14,
   "metadata": {},
   "outputs": [],
   "source": [
    "# training param\n",
    "EPOCHS = grid_result.best_params_['epochs']\n",
    "BATCH = grid_result.best_params_['batch_size']\n",
    "\n",
    "estimator = KerasRegressor(build_fn=keras_model, epochs=EPOCHS, batch_size=BATCH, verbose=0)\n",
    "# cross-validation\n",
    "np.random.seed(seed)\n",
    "kfold = KFold(n_splits=10, shuffle=True, random_state=seed)\n",
    "results = cross_val_score(estimator, X, Y, cv=kfold)\n",
    "y_pred = cross_val_predict(estimator, X, Y, cv=kfold)"
   ]
  },
  {
   "cell_type": "markdown",
   "metadata": {},
   "source": [
    "### Results plot"
   ]
  },
  {
   "cell_type": "code",
   "execution_count": 24,
   "metadata": {},
   "outputs": [
    {
     "data": {
      "image/png": "[encoded data removed]",
      "text/plain": [
       "<Figure size 432x288 with 1 Axes>"
      ]
     },
     "metadata": {
      "needs_background": "light"
     },
     "output_type": "display_data"
    }
   ],
   "source": [
    "from numpy.polynomial.polynomial import polyfit\n",
    "b, m = polyfit(Y,y_pred, 1)\n",
    "\n",
    "fig, ax = plt.subplots()\n",
    "ax.scatter(Y, y_pred)\n",
    "ax.plot([Y.min(), Y.max()], [y_pred.min(), y_pred.max()], 'k--', lw=4)\n",
    "plt.plot(Y,b+m*Y,'-')\n",
    "ax.set_xlabel('Measured')\n",
    "ax.set_ylabel('Predicted')\n",
    "plt.show()"
   ]
  },
  {
   "cell_type": "code",
   "execution_count": null,
   "metadata": {},
   "outputs": [],
   "source": []
  }
 ],
 "metadata": {
  "kernelspec": {
   "display_name": "Python 3",
   "language": "python",
   "name": "python3"
  },
  "language_info": {
   "codemirror_mode": {
    "name": "ipython",
    "version": 3
   },
   "file_extension": ".py",
   "mimetype": "text/x-python",
   "name": "python",
   "nbconvert_exporter": "python",
   "pygments_lexer": "ipython3",
   "version": "3.6.6"
  }
 },
 "nbformat": 4,
 "nbformat_minor": 2
}
