{
 "cells": [
  {
   "cell_type": "code",
   "execution_count": 1,
   "metadata": {},
   "outputs": [],
   "source": [
    "import nibabel as nib\n",
    "from nibabel.processing import resample_to_output\n",
    "import numpy as np\n",
    "import random\n",
    "import pandas as pd\n",
    "import matplotlib.pyplot as plt\n",
    "from matplotlib import cm\n",
    "from mpl_toolkits.mplot3d.axes3d import Axes3D\n",
    "from glob import glob\n",
    "import re\n",
    "import os\n",
    "\n",
    "seed = 42\n",
    "np.random.seed(seed)  # for reproducibility\n",
    "import matplotlib.animation as animation\n",
    "from mpl_toolkits.mplot3d.art3d import Poly3DCollection\n",
    "\n",
    "from skimage import measure\n",
    "from skimage.draw import ellipsoid\n",
    "import ipyvolume as ipv"
   ]
  },
  {
   "cell_type": "code",
   "execution_count": 2,
   "metadata": {},
   "outputs": [],
   "source": [
    "data_t1 = np.load(\"/Dedicated/jmichaelson-sdata/comppsych/lesion/Hackathon_Lesion_Data/t1_np_array.npy\")\n",
    "lables_t1 = np.load(\"/Dedicated/jmichaelson-sdata/comppsych/lesion/Hackathon_Lesion_Data/t1_labels.npy\")"
   ]
  },
  {
   "cell_type": "code",
   "execution_count": 3,
   "metadata": {},
   "outputs": [],
   "source": [
    "data_array_mask = np.load(\"/Dedicated/jmichaelson-wdata/mcrichter/HackUiowa2018/DATA/All_subs_405_LM_np_array.npy\")\n",
    "labels_array_mask = np.load(\"/Dedicated/jmichaelson-wdata/mcrichter/HackUiowa2018/DATA/All_subs_405_labels.npy\")"
   ]
  },
  {
   "cell_type": "code",
   "execution_count": 4,
   "metadata": {},
   "outputs": [
    {
     "data": {
      "text/plain": [
       "(182, 218, 182)"
      ]
     },
     "execution_count": 4,
     "metadata": {},
     "output_type": "execute_result"
    }
   ],
   "source": [
    "all_masks = data_array_mask.sum(axis=0)\n",
    "all_masks.shape"
   ]
  },
  {
   "cell_type": "code",
   "execution_count": 51,
   "metadata": {},
   "outputs": [
    {
     "data": {
      "application/vnd.jupyter.widget-view+json": {
       "model_id": "db9bc15d91c2419ab874f1af572d9a86",
       "version_major": 2,
       "version_minor": 0
      },
      "text/plain": [
       "VkJveChjaGlsZHJlbj0oVkJveChjaGlsZHJlbj0oSEJveChjaGlsZHJlbj0oTGFiZWwodmFsdWU9dSdsZXZlbHM6JyksIEZsb2F0U2xpZGVyKHZhbHVlPTAuMSwgbWF4PTEuMCwgc3RlcD0wLjDigKY=\n"
      ]
     },
     "metadata": {},
     "output_type": "display_data"
    }
   ],
   "source": [
    "fig = ipv.figure()\n",
    "masks = ipv.volshow(all_masks.T, data_min =1, level = [.1,.5,.75], downscale = 1, stereo=True)\n",
    "ipv.pylab.xlim(0, 182)\n",
    "ipv.pylab.zlim(0, 218)\n",
    "ipv.pylab.zlim(0, 182)\n",
    "ipv.style.use('minimal')\n",
    "# fig.camera_control = 'orbit'\n",
    "ipv.show()"
   ]
  },
  {
   "cell_type": "markdown",
   "metadata": {},
   "source": [
    "## Create individual frames for gif"
   ]
  },
  {
   "cell_type": "code",
   "execution_count": 52,
   "metadata": {},
   "outputs": [
    {
     "data": {
      "application/vnd.jupyter.widget-view+json": {
       "model_id": "816e9cccd18e4fcca6f7d4021b2a4c79",
       "version_major": 2,
       "version_minor": 0
      },
      "text/plain": [
       "Output()"
      ]
     },
     "metadata": {},
     "output_type": "display_data"
    }
   ],
   "source": [
    "def set_view(figure, angle):\n",
    "    ipv.view(angle)\n",
    "    ipv.savefig('temp/' + str(angle).zfill(3) + '_temp_im' + '.png')\n",
    "for angle in range(360):\n",
    "    set_view(fig, angle)"
   ]
  },
  {
   "cell_type": "markdown",
   "metadata": {},
   "source": [
    "## Convert images to gif"
   ]
  },
  {
   "cell_type": "code",
   "execution_count": 53,
   "metadata": {},
   "outputs": [
    {
     "name": "stdout",
     "output_type": "stream",
     "text": [
      "\n",
      "[MoviePy] Building file all_masks_rotating_z_ipyvolume.gif with imageio\n"
     ]
    },
    {
     "name": "stderr",
     "output_type": "stream",
     "text": [
      "100%|██████████| 361/361 [00:47<00:00,  8.07it/s]\n"
     ]
    },
    {
     "name": "stdout",
     "output_type": "stream",
     "text": [
      "[MoviePy] >>>> Building video all_masks_rotating_z_ipyvolume.mp4\n",
      "[MoviePy] Writing video all_masks_rotating_z_ipyvolume.mp4\n"
     ]
    },
    {
     "name": "stderr",
     "output_type": "stream",
     "text": [
      "100%|██████████| 361/361 [00:03<00:00, 96.41it/s] \n"
     ]
    },
    {
     "name": "stdout",
     "output_type": "stream",
     "text": [
      "[MoviePy] Done.\n",
      "[MoviePy] >>>> Video ready: all_masks_rotating_z_ipyvolume.mp4 \n",
      "\n"
     ]
    }
   ],
   "source": [
    "import glob\n",
    "import os\n",
    "import re\n",
    "import moviepy.editor as mpy\n",
    "\n",
    "gif_name = 'all_masks_rotating_z_ipyvolume'\n",
    "file_list = glob.glob('./temp/*.png') # Get all the pngs in the temp directory\n",
    "fps = 20\n",
    "\n",
    "list.sort(file_list, key=lambda x: int(re.findall('\\d+', x)[0])) # Sort the images by #, this may need to be tweaked for your use case\n",
    "\n",
    "clip = mpy.ImageSequenceClip(file_list, fps=fps)\n",
    "clip.write_gif('{}.gif'.format(gif_name), fps=fps)\n",
    "clip.write_videofile('{}.mp4'.format(gif_name), fps=fps)"
   ]
  },
  {
   "cell_type": "code",
   "execution_count": null,
   "metadata": {},
   "outputs": [],
   "source": [
    "ipv.save(\"ipv_masks_combined.html\")"
   ]
  },
  {
   "cell_type": "markdown",
   "metadata": {},
   "source": [
    "## Extract brain surface"
   ]
  },
  {
   "cell_type": "markdown",
   "metadata": {},
   "source": [
    "Up until now ipyvolume doesn't support oppacity on trinagle mesh surfaces :("
   ]
  },
  {
   "cell_type": "code",
   "execution_count": 66,
   "metadata": {},
   "outputs": [],
   "source": [
    "verts, faces, normals, values = measure.marching_cubes_lewiner(data_t1[0,:,:,:], 0, step_size = 1)"
   ]
  },
  {
   "cell_type": "code",
   "execution_count": 67,
   "metadata": {},
   "outputs": [],
   "source": [
    "colors = np.zeros((faces.shape[0] * 2,) + (4,))"
   ]
  },
  {
   "cell_type": "code",
   "execution_count": 68,
   "metadata": {},
   "outputs": [],
   "source": [
    "colors[:,0] = .7\n",
    "colors[:,1] = .8\n",
    "colors[:,2] = 1\n",
    "colors[:,3] = 0.1"
   ]
  },
  {
   "cell_type": "code",
   "execution_count": 69,
   "metadata": {},
   "outputs": [
    {
     "data": {
      "application/vnd.jupyter.widget-view+json": {
       "model_id": "c45fb97d51b54a0fa0b692e63a64bacd",
       "version_major": 2,
       "version_minor": 0
      },
      "text/plain": [
       "VkJveChjaGlsZHJlbj0oRmlndXJlKGNhbWVyYT1QZXJzcGVjdGl2ZUNhbWVyYShmb3Y9NDYuMCwgcG9zaXRpb249KDAuMCwgMC4wLCAyLjApLCBxdWF0ZXJuaW9uPSgwLjAsIDAuMCwgMC4wLCDigKY=\n"
      ]
     },
     "metadata": {},
     "output_type": "display_data"
    }
   ],
   "source": [
    "ipv.figure()\n",
    "\n",
    "x = verts[:,0]\n",
    "y = verts[:,1]\n",
    "z = verts[:,2]\n",
    "\n",
    "mesh = ipv.plot_trisurf(x, y, z, triangles=faces, color=colors)\n",
    "# and also mark the vertices\n",
    "# ipv.scatter(x, y, z, marker='sphere', color='blue', size = .1)\n",
    "# ipv.xyzlim(-2, 2)\n",
    "ipv.style.use('minimal')\n",
    "ipv.show()"
   ]
  },
  {
   "cell_type": "code",
   "execution_count": 70,
   "metadata": {},
   "outputs": [],
   "source": [
    "ipv.save(\"surface_subject_0.html\")"
   ]
  },
  {
   "cell_type": "code",
   "execution_count": 230,
   "metadata": {
    "scrolled": true
   },
   "outputs": [
    {
     "data": {
      "application/vnd.jupyter.widget-view+json": {
       "model_id": "4547aa12f48449c2b048b7479049032f",
       "version_major": 2,
       "version_minor": 0
      },
      "text/plain": [
       "Output()"
      ]
     },
     "metadata": {},
     "output_type": "display_data"
    }
   ],
   "source": [
    "def set_view(figure, framenr, fraction):\n",
    "    ipv.view(fraction*360, -60)\n",
    "ipv.movie('test.gif', set_view, fps=20, frames=360)"
   ]
  },
  {
   "cell_type": "code",
   "execution_count": 253,
   "metadata": {},
   "outputs": [
    {
     "data": {
      "application/vnd.jupyter.widget-view+json": {
       "model_id": "74b4d14db0ff43dabad4034d04d40eaf",
       "version_major": 2,
       "version_minor": 0
      },
      "text/plain": [
       "VkJveChjaGlsZHJlbj0oVG9nZ2xlQnV0dG9uKHZhbHVlPUZhbHNlLCBkZXNjcmlwdGlvbj11J1JlY29yZCcsIGljb249dSdjaXJjbGUnKSwgRHJvcGRvd24oaW5kZXg9MSwgb3B0aW9ucz0oKCfigKY=\n"
      ]
     },
     "metadata": {},
     "output_type": "display_data"
    },
    {
     "name": "stdout",
     "output_type": "stream",
     "text": [
      "('wrote', 'moviemaker.json')\n"
     ]
    }
   ],
   "source": [
    "from ipyvolume.moviemaker import MovieMaker\n",
    "mm = MovieMaker(stream = fig, camera = fig.camera)\n",
    "mm.widget_main"
   ]
  },
  {
   "cell_type": "code",
   "execution_count": 259,
   "metadata": {},
   "outputs": [
    {
     "data": {
      "text/plain": [
       "(50, 3.5083546492674388e-15, 1.9999999999999996)"
      ]
     },
     "execution_count": 259,
     "metadata": {},
     "output_type": "execute_result"
    }
   ],
   "source": [
    "ipv.view(50)"
   ]
  },
  {
   "cell_type": "code",
   "execution_count": 254,
   "metadata": {},
   "outputs": [
    {
     "data": {
      "application/vnd.jupyter.widget-view+json": {
       "model_id": "f5f71c48ee014a18b4634fdab965141c",
       "version_major": 2,
       "version_minor": 0
      },
      "text/plain": [
       "RmlndXJlKGNhbWVyYT1QZXJzcGVjdGl2ZUNhbWVyYShmb3Y9NDYuMCwgcG9zaXRpb249KDAuMCwgMC4wLCAyLjApLCBwcm9qZWN0aW9uTWF0cml4PSgyLjM1NTg1MjM2NTgyMzc1MjcsIDAuMCzigKY=\n"
      ]
     },
     "metadata": {},
     "output_type": "display_data"
    }
   ],
   "source": [
    "fig"
   ]
  },
  {
   "cell_type": "code",
   "execution_count": 266,
   "metadata": {},
   "outputs": [],
   "source": [
    "import ipywebrtc as webrtc"
   ]
  },
  {
   "cell_type": "code",
   "execution_count": 267,
   "metadata": {},
   "outputs": [
    {
     "ename": "AttributeError",
     "evalue": "'module' object has no attribute 'MediaRecorder'",
     "output_type": "error",
     "traceback": [
      "\u001b[0;31m---------------------------------------------------------------------------\u001b[0m",
      "\u001b[0;31mAttributeError\u001b[0m                            Traceback (most recent call last)",
      "\u001b[0;32m<ipython-input-267-a5b77c2e8d47>\u001b[0m in \u001b[0;36m<module>\u001b[0;34m()\u001b[0m\n\u001b[0;32m----> 1\u001b[0;31m \u001b[0mwebrtc\u001b[0m\u001b[0;34m.\u001b[0m\u001b[0mMediaRecorder\u001b[0m\u001b[0;34m(\u001b[0m\u001b[0mstream\u001b[0m \u001b[0;34m=\u001b[0m \u001b[0mfig\u001b[0m\u001b[0;34m,\u001b[0m \u001b[0mfilename\u001b[0m \u001b[0;34m=\u001b[0m \u001b[0;34m\"test_webrtc\"\u001b[0m\u001b[0;34m)\u001b[0m\u001b[0;34m\u001b[0m\u001b[0m\n\u001b[0m",
      "\u001b[0;31mAttributeError\u001b[0m: 'module' object has no attribute 'MediaRecorder'"
     ]
    }
   ],
   "source": [
    "webrtc.MediaRecorder(stream = fig, filename = \"test_webrtc\")"
   ]
  },
  {
   "cell_type": "code",
   "execution_count": null,
   "metadata": {},
   "outputs": [],
   "source": []
  },
  {
   "cell_type": "code",
   "execution_count": 5,
   "metadata": {},
   "outputs": [],
   "source": [
    "%matplotlib notebook\n",
    "from numpy import *    \n",
    "\n",
    "def get_cube(mask, s=0, e=182, everything=False):\n",
    "    if everything:\n",
    "        cube = mask\n",
    "    else:\n",
    "        cube = mask[s:e, s:e, s:e]\n",
    "    flat = cube.flatten()\n",
    "    positions = np.where(cube > -1)\n",
    "    return cube, flat, positions\n",
    "\n",
    "def cutoff(flat, value):\n",
    "    return np.array([0 if x < value else x for x in flat])\n",
    "\n",
    "def norm(a):\n",
    "    return a / max(a.flatten())\n",
    "\n",
    "def log_transform(a):\n",
    "    x = ma.log(a)\n",
    "    return x.filled(0)\n",
    "\n",
    "CUTOFF_VALUE = 0\n",
    "\n",
    "\n",
    "\n",
    "cube,  cube_flat, positions = get_cube(all_masks, everything = True)\n",
    "cube_cut = cutoff(cube_flat, CUTOFF_VALUE)\n",
    "\n",
    "non_zeroes = cube_cut != 0\n",
    "\n",
    "non_zero_positions = np.apply_along_axis(lambda x: x[non_zeroes], 1, positions)\n",
    "non_zero_cube = cube_cut[non_zeroes]\n",
    "\n",
    "\n",
    "nz_cube_normalized = norm(non_zero_cube)\n",
    "\n",
    "rgba_colors = cm.viridis(nz_cube_normalized)\n",
    "# the fourth column needs to be the alphas\n",
    "rgba_colors[:, 3] = nz_cube_normalized**5\n",
    "\n",
    "cube,  cube_flat, pos = get_cube(all_masks, everything = True)\n",
    "\n",
    "non_zeroes = cube_flat != 0\n",
    "\n",
    "nz_pos = np.apply_along_axis(lambda x: x[non_zeroes], 1, pos)\n",
    "nz_cube = cube_flat[non_zeroes]"
   ]
  }
 ],
 "metadata": {
  "kernelspec": {
   "display_name": "Python 2",
   "language": "python",
   "name": "python2"
  },
  "language_info": {
   "codemirror_mode": {
    "name": "ipython",
    "version": 2
   },
   "file_extension": ".py",
   "mimetype": "text/x-python",
   "name": "python",
   "nbconvert_exporter": "python",
   "pygments_lexer": "ipython2",
   "version": "2.7.15"
  }
 },
 "nbformat": 4,
 "nbformat_minor": 2
}
